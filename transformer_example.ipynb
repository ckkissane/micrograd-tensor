{
 "cells": [
  {
   "cell_type": "code",
   "execution_count": 1,
   "id": "2e020234",
   "metadata": {},
   "outputs": [],
   "source": [
    "import micrograd\n",
    "from micrograd.engine import Tensor\n",
    "import micrograd.nn as nn\n",
    "import micrograd.functional as F\n",
    "from micrograd.optim import SGD, Adam\n",
    "import numpy as np\n",
    "from tqdm import tqdm"
   ]
  },
  {
   "cell_type": "code",
   "execution_count": 2,
   "id": "1c7a0621",
   "metadata": {},
   "outputs": [],
   "source": [
    "# still need to use torch DataLoader for now\n",
    "import torch\n",
    "from torch.utils.data import DataLoader"
   ]
  },
  {
   "cell_type": "code",
   "execution_count": 3,
   "id": "8c4c2efb",
   "metadata": {},
   "outputs": [],
   "source": [
    "def mask_scores(attn_scores):\n",
    "    \"\"\"\n",
    "    Args:\n",
    "        attn_scores: Tensor of shape (batch_size, num_heads, seq_len, seq_len)\n",
    "    Returns:\n",
    "        out: Tensor of shape (batch_size, num_heads, seq_len, seq_len)\n",
    "    \"\"\"\n",
    "    seq_len = attn_scores.shape[-2]\n",
    "    neg_inf = Tensor(np.array(-1e9))\n",
    "    q_ind = np.expand_dims(np.arange(seq_len), 1)\n",
    "    k_ind = np.expand_dims(np.arange(seq_len), 0)\n",
    "    mask = Tensor(q_ind < k_ind)\n",
    "    attn_scores = micrograd.where(mask, neg_inf, attn_scores)\n",
    "    return attn_scores"
   ]
  },
  {
   "cell_type": "code",
   "execution_count": 4,
   "id": "e971330c",
   "metadata": {},
   "outputs": [],
   "source": [
    "def masked_attn(q, k, v):\n",
    "    \"\"\"\n",
    "    Args:\n",
    "        - q: Tensor of shape (batch_size, num_heads, seq_len, headsize)\n",
    "        - k: Tensor of shape (batch_size, num_heads, seq_len, headsize)\n",
    "        - v: Tensor of shape (batch_size, num_heads, seq_len, headsize)\n",
    "    Returns:\n",
    "        - out: Tensor of shape (batch_size, num_heads, seq_len, headsize)\n",
    "    \"\"\"\n",
    "    headsize = q.shape[-1]\n",
    "    attn_scores = q.matmul(k.transpose(-1, -2)) / Tensor(np.sqrt(headsize))\n",
    "    attn_scores = mask_scores(attn_scores)\n",
    "    attn_scores = attn_scores.softmax(dim=-1)\n",
    "    out = attn_scores.matmul(v)\n",
    "    return out"
   ]
  },
  {
   "cell_type": "code",
   "execution_count": 5,
   "id": "fbdf5346",
   "metadata": {},
   "outputs": [],
   "source": [
    "class MaskedMultiHeadedAttn(nn.Module):\n",
    "    def __init__(self, num_heads, hidden_size):\n",
    "        self.q_proj = nn.Linear(hidden_size, hidden_size)\n",
    "        self.k_proj = nn.Linear(hidden_size, hidden_size)\n",
    "        self.v_proj = nn.Linear(hidden_size, hidden_size)\n",
    "        self.out_proj = nn.Linear(hidden_size, hidden_size)\n",
    "\n",
    "        self.num_heads = num_heads\n",
    "        assert hidden_size % num_heads == 0\n",
    "        self.headsize = hidden_size // self.num_heads\n",
    "    \n",
    "    def __call__(self, x):\n",
    "        \"\"\"\n",
    "        Args:\n",
    "            - x: Tensor of shape (batch_size, seq_len, hidden_size)\n",
    "        Returns:\n",
    "            - out: Tensor of shape (batch_size, seq_len, hidden_size)\n",
    "        \"\"\"\n",
    "        batch_size, seq_len, hidden_size = x.shape\n",
    "        q = self.q_proj(x).reshape((batch_size, seq_len, self.num_heads, self.headsize,)).transpose(1, 2)\n",
    "        k = self.k_proj(x).reshape((batch_size, seq_len, self.num_heads, self.headsize,)).transpose(1, 2)\n",
    "        v = self.v_proj(x).reshape((batch_size, seq_len, self.num_heads, self.headsize,)).transpose(1, 2)\n",
    "        out = masked_attn(q, k, v)\n",
    "        out = out.transpose(1, 2).reshape((batch_size, seq_len, -1,))\n",
    "        out = self.out_proj(out)\n",
    "        return out"
   ]
  },
  {
   "cell_type": "code",
   "execution_count": 6,
   "id": "5810940f",
   "metadata": {},
   "outputs": [],
   "source": [
    "class DecoderBlock(nn.Module):\n",
    "    def __init__(self, num_heads, hidden_size):\n",
    "        self.attn = MaskedMultiHeadedAttn(num_heads, hidden_size)\n",
    "        self.ln1 = nn.LayerNorm((hidden_size,))\n",
    "        self.ln2 = nn.LayerNorm((hidden_size,))\n",
    "        self.lin1 = nn.Linear(hidden_size, hidden_size * 4)\n",
    "        self.lin2 = nn.Linear(hidden_size * 4, hidden_size)\n",
    "    \n",
    "    def __call__(self, x):\n",
    "        \"\"\"\n",
    "        Args:\n",
    "            - x : torch.tensor of shape (batch_size, seq_len, hidden_size)\n",
    "        Returns:\n",
    "            - out: torch.tensor of shape (batch_size, seq_len, hidden_size)\n",
    "        \"\"\"\n",
    "        x = x + self.attn(self.ln1(x))\n",
    "        x = x + self.lin2(self.lin1(self.ln2(x)).relu())\n",
    "        return x"
   ]
  },
  {
   "cell_type": "code",
   "execution_count": 7,
   "id": "fbd19eb4",
   "metadata": {},
   "outputs": [],
   "source": [
    "class DecoderOnlyTransformer(nn.Module):\n",
    "    def __init__(self, vocab_size, max_pos_embeddings, num_heads, hidden_size, num_layers):\n",
    "        self.token_embedding = nn.Embedding(vocab_size, hidden_size)\n",
    "        self.pos_embedding = nn.Embedding(max_pos_embeddings, hidden_size)\n",
    "        self.blocks = nn.Sequential(\n",
    "            *[\n",
    "                DecoderBlock(num_heads, hidden_size)\n",
    "                for _ in range(num_layers)\n",
    "            ]\n",
    "        )\n",
    "        self.ln = nn.LayerNorm((hidden_size,))\n",
    "        self.lm_head = nn.Linear(hidden_size, vocab_size)\n",
    "\n",
    "    \n",
    "    def __call__(self, input_ids):\n",
    "        \"\"\"\n",
    "        Args: \n",
    "            - input_ids : torch.tensor of shape (batch_size, seq_len)\n",
    "        Returns:\n",
    "            - logits: torch.tensor of shape (batch_size, seq_len, vocab_size)\n",
    "        \"\"\"\n",
    "        batch_size, seq_len = input_ids.shape\n",
    "        pos = Tensor(np.arange(seq_len))\n",
    "        x = self.token_embedding(input_ids) + self.pos_embedding(pos)\n",
    "        x = self.blocks(x)\n",
    "        x = self.ln(x)\n",
    "        out = self.lm_head(x)\n",
    "        return out"
   ]
  },
  {
   "cell_type": "markdown",
   "id": "e3f033c0",
   "metadata": {},
   "source": [
    "Training on toy addition task (taken from Karpathy's minGPT)"
   ]
  },
  {
   "cell_type": "code",
   "execution_count": 8,
   "id": "6e73bf6b",
   "metadata": {},
   "outputs": [],
   "source": [
    "class AdditionDataset(torch.utils.data.Dataset):\n",
    "    \"\"\"\n",
    "    Creates n-digit addition problems. For example, if n=2, then an example\n",
    "    addition problem would be to add 85 + 50 = 135. This problem would be\n",
    "    represented as the following string for the GPT:\n",
    "    \"8550531\"\n",
    "    This is because:\n",
    "    - we are discarding the + and =, which are not necessary. We just encode the digits\n",
    "      of the input numbers concatenated together.\n",
    "    - the result 135 is encoded backwards to make the addition easier to learn for the\n",
    "      GPT model, because of how the addition algorithm works.\n",
    "    As one more example, the problem 6 + 39 = 45 would be encoded as:\n",
    "    \"0639054\"\n",
    "    where you will notice that we are padding with zeros to make sure that we always\n",
    "    produce strings of the exact same size: n + n + (n + 1). When n=2, this is 7.\n",
    "    At test time, we will feed in an addition problem by giving the first 2n digits,\n",
    "    and hoping that the GPT model completes the sequence with the next (n+1) digits\n",
    "    correctly.\n",
    "    \"\"\"\n",
    "\n",
    "    def __init__(self, ndigit, split):\n",
    "        self.ndigit = ndigit\n",
    "        self.split = split # train/test\n",
    "\n",
    "        # split up all addition problems into either training data or test data\n",
    "        assert ndigit <= 3, \"the lines below would be very memory inefficient, in future maybe refactor to support\"\n",
    "        num = (10**ndigit)**2 # total number of possible addition problems with ndigit numbers\n",
    "        rng = torch.Generator()\n",
    "        rng.manual_seed(1337)\n",
    "        perm = torch.randperm(num, generator=rng)\n",
    "        num_test = min(int(num*0.2), 500) # 20% of the whole dataset, or only up to 500\n",
    "        self.ixes = perm[:num_test] if split == 'test' else perm[num_test:]\n",
    "\n",
    "    def get_vocab_size(self):\n",
    "        return 10 # digits 0..9\n",
    "\n",
    "    def get_block_size(self):\n",
    "        # a,b,a+b, and +1 due to potential carry overflow,\n",
    "        # but then also -1 because very last digit doesn't ever plug back\n",
    "        # as there is no explicit  token to predict, it is implied\n",
    "        return 3*self.ndigit + 1 - 1\n",
    "\n",
    "    def __len__(self):\n",
    "        return self.ixes.nelement()\n",
    "\n",
    "    def __getitem__(self, idx):\n",
    "        ndigit = self.ndigit\n",
    "        # given a problem index idx, first recover the associated a + b\n",
    "        idx = self.ixes[idx].item()\n",
    "        nd = 10**ndigit\n",
    "        a = idx // nd\n",
    "        b = idx %  nd\n",
    "        # calculate the \"label\" of the addition problem a + b\n",
    "        c = a + b\n",
    "        # encode the digits of a, b, c into strings\n",
    "        astr = f'%0{ndigit}d' % a\n",
    "        bstr = f'%0{ndigit}d' % b\n",
    "        cstr = (f'%0{ndigit+1}d' % c)[::-1] # reverse c to make addition easier\n",
    "        render = astr + bstr + cstr\n",
    "        dix = [int(s) for s in render] # convert each character to its token index\n",
    "        # x will be input to GPT and y will be the associated expected outputs\n",
    "        x = torch.tensor(dix[:-1], dtype=torch.long)\n",
    "        y = torch.tensor(dix[1:], dtype=torch.long) # predict the next token in the sequence\n",
    "        y[:ndigit*2-1] = -1 # we will only train in the output locations. -1 will mask loss to zero\n",
    "        return x, y\n",
    "\n",
    "train_dataset = AdditionDataset(2, 'train')\n",
    "train_loader = torch.utils.data.DataLoader(train_dataset, batch_size=64, shuffle=False)"
   ]
  },
  {
   "cell_type": "code",
   "execution_count": 10,
   "id": "82cc7b1d",
   "metadata": {},
   "outputs": [
    {
     "name": "stderr",
     "output_type": "stream",
     "text": [
      "epoch: 0, it: 148, loss: 1.54135: 100%|█████████████| 149/149 [00:10<00:00, 14.36it/s]\n",
      "epoch: 1, it: 148, loss: 0.94432: 100%|█████████████| 149/149 [00:11<00:00, 13.46it/s]\n",
      "epoch: 2, it: 148, loss: 0.46090: 100%|█████████████| 149/149 [00:11<00:00, 13.20it/s]\n",
      "epoch: 3, it: 148, loss: 0.21301: 100%|█████████████| 149/149 [00:11<00:00, 13.18it/s]\n",
      "epoch: 4, it: 148, loss: 0.07031: 100%|█████████████| 149/149 [00:11<00:00, 12.97it/s]\n",
      "epoch: 5, it: 148, loss: 0.01789: 100%|█████████████| 149/149 [00:11<00:00, 12.57it/s]\n",
      "epoch: 6, it: 148, loss: 0.00850: 100%|█████████████| 149/149 [00:10<00:00, 13.62it/s]\n",
      "epoch: 7, it: 148, loss: 0.00438: 100%|█████████████| 149/149 [00:13<00:00, 11.39it/s]\n",
      "epoch: 8, it: 148, loss: 0.00281: 100%|█████████████| 149/149 [00:12<00:00, 11.49it/s]\n",
      "epoch: 9, it: 148, loss: 0.00201: 100%|█████████████| 149/149 [00:12<00:00, 12.26it/s]\n"
     ]
    }
   ],
   "source": [
    "model = DecoderOnlyTransformer(\n",
    "    vocab_size=train_dataset.get_vocab_size(),\n",
    "    max_pos_embeddings=train_dataset.get_block_size(),\n",
    "    num_heads=3,\n",
    "    hidden_size=48,\n",
    "    num_layers=3\n",
    ")\n",
    "optimizer = Adam(model.parameters(), lr=5e-4)\n",
    "\n",
    "losses = []\n",
    "\n",
    "max_epochs = 10\n",
    "for epoch in range(max_epochs):\n",
    "    pbar = tqdm(enumerate(train_loader), total=len(train_loader))\n",
    "    for it, (x, y) in pbar:\n",
    "        x, y = Tensor(x.numpy()), Tensor(y.numpy())\n",
    "        logits = model(x)\n",
    "\n",
    "        optimizer.zero_grad()\n",
    "        loss = F.batched_cross_entropy(logits.reshape((-1, logits.shape[-1],)), y.reshape(-1), ignore_index=-1)\n",
    "        loss.backward()\n",
    "        optimizer.step()\n",
    "\n",
    "        pbar.set_description(f\"epoch: {epoch}, it: {it}, loss: {loss.data.item():.5f}\")\n",
    "        losses.append(loss.data.item())"
   ]
  },
  {
   "cell_type": "code",
   "execution_count": 12,
   "id": "4b14385c",
   "metadata": {},
   "outputs": [
    {
     "data": {
      "image/png": "[encoded data removed]",
      "text/plain": [
       "<Figure size 640x480 with 1 Axes>"
      ]
     },
     "metadata": {},
     "output_type": "display_data"
    }
   ],
   "source": [
    "# plot loss curve\n",
    "import matplotlib.pyplot as plt\n",
    "\n",
    "plt.plot(losses);"
   ]
  }
 ],
 "metadata": {
  "kernelspec": {
   "display_name": "Python 3 (ipykernel)",
   "language": "python",
   "name": "python3"
  },
  "language_info": {
   "codemirror_mode": {
    "name": "ipython",
    "version": 3
   },
   "file_extension": ".py",
   "mimetype": "text/x-python",
   "name": "python",
   "nbconvert_exporter": "python",
   "pygments_lexer": "ipython3",
   "version": "3.9.7"
  }
 },
 "nbformat": 4,
 "nbformat_minor": 5
}
