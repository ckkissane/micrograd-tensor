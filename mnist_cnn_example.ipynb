{
 "cells": [
  {
   "cell_type": "code",
   "execution_count": 1,
   "id": "edd60d7e",
   "metadata": {},
   "outputs": [],
   "source": [
    "from micrograd.engine import Tensor\n",
    "import micrograd.nn as nn\n",
    "import micrograd.functional as F\n",
    "from micrograd.optim import SGD\n",
    "import numpy as np\n",
    "from tqdm import tqdm"
   ]
  },
  {
   "cell_type": "code",
   "execution_count": 2,
   "id": "9adb87be",
   "metadata": {},
   "outputs": [],
   "source": [
    "# use torchvision to get mnist data\n",
    "import torch\n",
    "from torch.utils.data import DataLoader\n",
    "import torchvision\n",
    "from torchvision import transforms"
   ]
  },
  {
   "cell_type": "markdown",
   "id": "afa8dc1d",
   "metadata": {},
   "source": [
    "CNN definition"
   ]
  },
  {
   "cell_type": "code",
   "execution_count": 3,
   "id": "6f60ad54",
   "metadata": {},
   "outputs": [],
   "source": [
    "class CNN(nn.Module):\n",
    "    def __init__(self):\n",
    "        self.conv1 = nn.Conv2d(1, 6, K=5, stride=2, padding=2)\n",
    "        self.conv2 = nn.Conv2d(6, 16, K=5, stride=2)\n",
    "\n",
    "        self.lin1 = nn.Linear(400, 120)\n",
    "        self.lin2 = nn.Linear(120, 80)\n",
    "        self.lin3 = nn.Linear(80, 10)\n",
    "\n",
    "    def __call__(self, x):\n",
    "        x = self.conv1(x).relu()\n",
    "        x = self.conv2(x).relu()\n",
    "        x = x.reshape((-1, 400))\n",
    "        x = self.lin1(x).relu()\n",
    "        x = self.lin2(x).relu()\n",
    "        x = self.lin3(x)\n",
    "        return x"
   ]
  },
  {
   "cell_type": "markdown",
   "id": "1b6e567f",
   "metadata": {},
   "source": [
    "Train"
   ]
  },
  {
   "cell_type": "code",
   "execution_count": 4,
   "id": "d88e286d",
   "metadata": {},
   "outputs": [],
   "source": [
    "train_dataset = torchvision.datasets.MNIST(root='./data',\n",
    "                                           train=True,\n",
    "                                           transform=transforms.Compose([\n",
    "                                                  transforms.ToTensor(),\n",
    "                                                  transforms.Normalize(mean = (0.1307,), std = (0.3081,))]),\n",
    "                                           download=True)\n",
    "train_loader = DataLoader(train_dataset, batch_size=32, shuffle=True)"
   ]
  },
  {
   "cell_type": "code",
   "execution_count": 5,
   "id": "3a320ede",
   "metadata": {
    "scrolled": false
   },
   "outputs": [
    {
     "name": "stderr",
     "output_type": "stream",
     "text": [
      "epoch: 0, it: 1874, loss: 0.01208: 100%|████| 1875/1875 [01:14<00:00, 25.09it/s]\n"
     ]
    }
   ],
   "source": [
    "model = CNN()\n",
    "optimizer = SGD(model.parameters(), lr=0.1)\n",
    "\n",
    "max_epochs = 1\n",
    "for epoch in range(max_epochs):\n",
    "    pbar = tqdm(enumerate(train_loader), total=len(train_loader))\n",
    "    for it, (x, y) in pbar:\n",
    "        x = Tensor(x.permute(0, 2, 3, 1).numpy())\n",
    "        y = y.numpy()\n",
    "        optimizer.zero_grad()\n",
    "        ypred = model(x)\n",
    "        loss = F.batched_cross_entropy(ypred, y)\n",
    "        loss.backward()\n",
    "        optimizer.step()\n",
    "        \n",
    "        pbar.set_description(f\"epoch: {epoch}, it: {it}, loss: {loss.data.item():.5f}\")"
   ]
  },
  {
   "cell_type": "markdown",
   "id": "63439277",
   "metadata": {},
   "source": [
    "Test"
   ]
  },
  {
   "cell_type": "code",
   "execution_count": 6,
   "id": "7520e890",
   "metadata": {},
   "outputs": [],
   "source": [
    "test_dataset = torchvision.datasets.MNIST(root='./data',\n",
    "                                          train=False,\n",
    "                                          transform=transforms.Compose([\n",
    "                                                  transforms.ToTensor(),\n",
    "                                                  transforms.Normalize(mean = (0.1307,), std = (0.3081,))]),\n",
    "                                          download=True)\n",
    "test_loader = DataLoader(test_dataset, batch_size=128)"
   ]
  },
  {
   "cell_type": "code",
   "execution_count": 7,
   "id": "a52652fc",
   "metadata": {},
   "outputs": [
    {
     "name": "stdout",
     "output_type": "stream",
     "text": [
      "accuracy: 0.9708\n"
     ]
    }
   ],
   "source": [
    "correct, total = 0, 0\n",
    "for x, y in test_loader:\n",
    "    x = Tensor(x.permute(0, 2, 3, 1).numpy())\n",
    "    y = y.numpy()\n",
    "    logits = model(x)\n",
    "    pred = np.argmax(logits.data, axis=-1)\n",
    "    correct += (y == pred).sum()\n",
    "    total += x.data.shape[0]\n",
    "\n",
    "print(f\"accuracy: {correct / total}\")"
   ]
  }
 ],
 "metadata": {
  "kernelspec": {
   "display_name": "Python 3 (ipykernel)",
   "language": "python",
   "name": "python3"
  },
  "language_info": {
   "codemirror_mode": {
    "name": "ipython",
    "version": 3
   },
   "file_extension": ".py",
   "mimetype": "text/x-python",
   "name": "python",
   "nbconvert_exporter": "python",
   "pygments_lexer": "ipython3",
   "version": "3.9.7"
  }
 },
 "nbformat": 4,
 "nbformat_minor": 5
}
