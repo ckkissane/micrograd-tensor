{
  "nbformat": 4,
  "nbformat_minor": 0,
  "metadata": {
    "colab": {
      "provenance": [],
      "authorship_tag": "ABX9TyNfsyE9HMA++4fICTx7wlgg"
    },
    "kernelspec": {
      "name": "python3",
      "display_name": "Python 3"
    },
    "language_info": {
      "name": "python"
    }
  },
  "cells": [
    {
      "cell_type": "code",
      "source": [
        "from engine import Tensor\n",
        "import nn\n",
        "import functional as F\n",
        "from optim import SGD\n",
        "import numpy as np"
      ],
      "metadata": {
        "id": "M72DFepUV-dJ"
      },
      "execution_count": 1,
      "outputs": []
    },
    {
      "cell_type": "code",
      "source": [
        "# use torchvision to get mnist data\n",
        "import torch\n",
        "import torchvision \n",
        "from torchvision import transforms"
      ],
      "metadata": {
        "id": "s5EnDVcZ7t2Z"
      },
      "execution_count": 2,
      "outputs": []
    },
    {
      "cell_type": "markdown",
      "source": [
        "MLP definition"
      ],
      "metadata": {
        "id": "J4tNmFkA71_h"
      }
    },
    {
      "cell_type": "code",
      "source": [
        "class MLP(nn.Module):\n",
        "    def __init__(self, nin, nouts):\n",
        "        sz = [nin] + nouts\n",
        "        self.layers = []\n",
        "        for i in range(len(nouts)):\n",
        "            self.layers.append(nn.Linear(sz[i], sz[i+1]))\n",
        "            if i != len(nouts) - 1:\n",
        "                self.layers.append(nn.Sigmoid())\n",
        "    \n",
        "    def __repr__(self):\n",
        "        return f\"MLP of [{', '.join(str(layer) for layer in self.layers)}]\"\n",
        "\n",
        "    def __call__(self, x):\n",
        "        for layer in self.layers:\n",
        "            x = layer(x)\n",
        "        return x\n",
        "    \n",
        "    def parameters(self):\n",
        "        return [p for layer in self.layers for p in layer.parameters()]"
      ],
      "metadata": {
        "id": "gth_VsBc70Mf"
      },
      "execution_count": 3,
      "outputs": []
    },
    {
      "cell_type": "markdown",
      "source": [
        "Training"
      ],
      "metadata": {
        "id": "wyZc6RX58spw"
      }
    },
    {
      "cell_type": "code",
      "source": [
        "train_dataset = torchvision.datasets.MNIST(root='./data',\n",
        "                                           train=True,\n",
        "                                           transform=transforms.Compose([\n",
        "                                                  transforms.ToTensor(),\n",
        "                                                  transforms.Normalize(mean = (0.1307,), std = (0.3081,))]),\n",
        "                                           download=True)"
      ],
      "metadata": {
        "id": "I2WFhFc48vh7"
      },
      "execution_count": 4,
      "outputs": []
    },
    {
      "cell_type": "code",
      "source": [
        "# put training data in lists for preprocessing\n",
        "xs = []\n",
        "ys = []\n",
        "\n",
        "for x, y in train_dataset:\n",
        "    xs.append(x)\n",
        "    ys.append(y)\n",
        "\n",
        "len(xs), len(ys)"
      ],
      "metadata": {
        "colab": {
          "base_uri": "https://localhost:8080/"
        },
        "id": "dOJfMK9b8v_L",
        "outputId": "9d3fcdd4-51bc-4930-a1ef-692ef28abcba"
      },
      "execution_count": 5,
      "outputs": [
        {
          "output_type": "execute_result",
          "data": {
            "text/plain": [
              "(60000, 60000)"
            ]
          },
          "metadata": {},
          "execution_count": 5
        }
      ]
    },
    {
      "cell_type": "code",
      "source": [
        "# convert Pytorch tensors to my Tensors\n",
        "xs = list(map(torch.flatten, xs))\n",
        "xs = list(map(lambda x: x.numpy(), xs))\n",
        "xs = list(map(Tensor, xs))"
      ],
      "metadata": {
        "id": "H6kJS3dP8zKk"
      },
      "execution_count": 6,
      "outputs": []
    },
    {
      "cell_type": "code",
      "source": [
        "model = MLP(784, [16, 16, 10])\n",
        "optimizer = SGD(model.parameters(), lr=0.1)\n",
        "\n",
        "# training loop\n",
        "max_epochs = 3\n",
        "for epoch in range(max_epochs):\n",
        "    for it, (x, y) in enumerate(zip(xs, ys)):\n",
        "        # forward pass\n",
        "        ypred = model(x)\n",
        "        loss = F.cross_entropy(ypred, y)\n",
        "        \n",
        "        # backward pass\n",
        "        optimizer.zero_grad()\n",
        "        loss.backward()\n",
        "        \n",
        "        # update\n",
        "        optimizer.step()\n",
        "        \n",
        "        if it % 10000 == 0:\n",
        "            print(f\"epoch: {epoch}, it: {it}, loss: {loss}\")"
      ],
      "metadata": {
        "colab": {
          "base_uri": "https://localhost:8080/"
        },
        "id": "OOXStd7sd4l5",
        "outputId": "ed225544-032c-4d84-a775-68c92ded7c34"
      },
      "execution_count": 7,
      "outputs": [
        {
          "output_type": "stream",
          "name": "stdout",
          "text": [
            "epoch: 0, it: 0, loss: Tensor(data=[3.557336496510241])\n",
            "epoch: 0, it: 10000, loss: Tensor(data=[0.19869085823822127])\n",
            "epoch: 0, it: 20000, loss: Tensor(data=[0.03536561253556344])\n",
            "epoch: 0, it: 30000, loss: Tensor(data=[0.006098864294135648])\n",
            "epoch: 0, it: 40000, loss: Tensor(data=[0.010459694777903948])\n",
            "epoch: 0, it: 50000, loss: Tensor(data=[0.14227055232271368])\n",
            "epoch: 1, it: 0, loss: Tensor(data=[0.4744455272267569])\n",
            "epoch: 1, it: 10000, loss: Tensor(data=[0.032191507779018344])\n",
            "epoch: 1, it: 20000, loss: Tensor(data=[0.17142187821564928])\n",
            "epoch: 1, it: 30000, loss: Tensor(data=[0.012866718766937613])\n",
            "epoch: 1, it: 40000, loss: Tensor(data=[0.017674090837408448])\n",
            "epoch: 1, it: 50000, loss: Tensor(data=[0.022112146472283788])\n",
            "epoch: 2, it: 0, loss: Tensor(data=[0.4031863070890516])\n",
            "epoch: 2, it: 10000, loss: Tensor(data=[0.031748325883355646])\n",
            "epoch: 2, it: 20000, loss: Tensor(data=[0.011675474284432906])\n",
            "epoch: 2, it: 30000, loss: Tensor(data=[0.022570750121275067])\n",
            "epoch: 2, it: 40000, loss: Tensor(data=[0.02712889494827399])\n",
            "epoch: 2, it: 50000, loss: Tensor(data=[0.13562849007858888])\n"
          ]
        }
      ]
    },
    {
      "cell_type": "markdown",
      "source": [
        "Testing"
      ],
      "metadata": {
        "id": "3rGAL6tM-Yz7"
      }
    },
    {
      "cell_type": "code",
      "source": [
        "test_dataset = torchvision.datasets.MNIST(root='./data',\n",
        "                                          train=False,\n",
        "                                          transform=transforms.Compose([\n",
        "                                                  transforms.ToTensor(),\n",
        "                                                  transforms.Normalize(mean = (0.1307,), std = (0.3081,))]),\n",
        "                                          download=True)"
      ],
      "metadata": {
        "id": "U9xCYq-T-Vs8"
      },
      "execution_count": 8,
      "outputs": []
    },
    {
      "cell_type": "code",
      "source": [
        "# put test data in lists for preprocessing\n",
        "test_xs = []\n",
        "test_ys = []\n",
        "\n",
        "for x, y in test_dataset:\n",
        "    test_xs.append(x)\n",
        "    test_ys.append(y)\n",
        "\n",
        "len(test_xs), len(test_ys)\n"
      ],
      "metadata": {
        "colab": {
          "base_uri": "https://localhost:8080/"
        },
        "id": "_dN3B_n0-Zu9",
        "outputId": "18bfdf59-d4f9-4b41-97d2-4d9fd70b7798"
      },
      "execution_count": 9,
      "outputs": [
        {
          "output_type": "execute_result",
          "data": {
            "text/plain": [
              "(10000, 10000)"
            ]
          },
          "metadata": {},
          "execution_count": 9
        }
      ]
    },
    {
      "cell_type": "code",
      "source": [
        "# convert PyTorch tensors to my Tensor\n",
        "test_xs = list(map(torch.flatten, test_xs))\n",
        "test_xs = list(map(lambda x: x.numpy(), test_xs))\n",
        "test_xs = list(map(Tensor, test_xs))"
      ],
      "metadata": {
        "id": "_mRoEFbp-cR2"
      },
      "execution_count": 10,
      "outputs": []
    },
    {
      "cell_type": "code",
      "source": [
        "# evaluate accuracy on test set\n",
        "correct = 0\n",
        "total = 0\n",
        "for x, y in zip(test_xs, test_ys):\n",
        "    logits = model(x)\n",
        "    pred = np.argmax(logits.data)\n",
        "    correct += (y == pred)\n",
        "    total += 1\n",
        "\n",
        "print(f\"accuracy: {correct / total}\")"
      ],
      "metadata": {
        "colab": {
          "base_uri": "https://localhost:8080/"
        },
        "id": "zKC2KUGC-vxz",
        "outputId": "5a099497-8562-4ce1-8f2c-c50959a0cb73"
      },
      "execution_count": 11,
      "outputs": [
        {
          "output_type": "stream",
          "name": "stdout",
          "text": [
            "accuracy: 0.8861\n"
          ]
        }
      ]
    }
  ]
}