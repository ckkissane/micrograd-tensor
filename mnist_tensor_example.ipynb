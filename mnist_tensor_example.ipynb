{
 "cells": [
  {
   "cell_type": "code",
   "execution_count": 1,
   "metadata": {
    "id": "M72DFepUV-dJ"
   },
   "outputs": [],
   "source": [
    "from micrograd.engine import Tensor\n",
    "import micrograd.nn as nn\n",
    "import micrograd.functional as F\n",
    "from micrograd.optim import SGD\n",
    "import numpy as np\n",
    "from tqdm import tqdm"
   ]
  },
  {
   "cell_type": "code",
   "execution_count": 10,
   "metadata": {
    "id": "s5EnDVcZ7t2Z",
    "scrolled": true
   },
   "outputs": [],
   "source": [
    "# use torchvision to get mnist data\n",
    "import torch\n",
    "from torch.utils.data import DataLoader\n",
    "import torchvision \n",
    "from torchvision import transforms"
   ]
  },
  {
   "cell_type": "markdown",
   "metadata": {
    "id": "J4tNmFkA71_h"
   },
   "source": [
    "MLP definition"
   ]
  },
  {
   "cell_type": "code",
   "execution_count": 3,
   "metadata": {
    "id": "gth_VsBc70Mf"
   },
   "outputs": [],
   "source": [
    "class MLP(nn.Module):\n",
    "    def __init__(self, nin, nouts):\n",
    "        sz = [nin] + nouts\n",
    "        self.layers = []\n",
    "        for i in range(len(nouts)):\n",
    "            self.layers.append(nn.Linear(sz[i], sz[i+1]))\n",
    "            if i != len(nouts) - 1:\n",
    "                self.layers.append(nn.Sigmoid())\n",
    "    \n",
    "    def __repr__(self):\n",
    "        return f\"MLP of [{', '.join(str(layer) for layer in self.layers)}]\"\n",
    "\n",
    "    def __call__(self, x):\n",
    "        for layer in self.layers:\n",
    "            x = layer(x)\n",
    "        return x\n",
    "    \n",
    "    def parameters(self):\n",
    "        return [p for layer in self.layers for p in layer.parameters()]"
   ]
  },
  {
   "cell_type": "markdown",
   "metadata": {
    "id": "wyZc6RX58spw"
   },
   "source": [
    "Training"
   ]
  },
  {
   "cell_type": "code",
   "execution_count": 4,
   "metadata": {
    "id": "I2WFhFc48vh7"
   },
   "outputs": [],
   "source": [
    "train_dataset = torchvision.datasets.MNIST(root='./data',\n",
    "                                           train=True,\n",
    "                                           transform=transforms.Compose([\n",
    "                                                  transforms.ToTensor(),\n",
    "                                                  transforms.Normalize(mean = (0.1307,), std = (0.3081,))]),\n",
    "                                           download=True)"
   ]
  },
  {
   "cell_type": "code",
   "execution_count": 5,
   "metadata": {},
   "outputs": [],
   "source": [
    "train_loader = DataLoader(train_dataset, batch_size=32, shuffle=True)"
   ]
  },
  {
   "cell_type": "code",
   "execution_count": 6,
   "metadata": {
    "colab": {
     "base_uri": "https://localhost:8080/"
    },
    "id": "OOXStd7sd4l5",
    "outputId": "ed225544-032c-4d84-a775-68c92ded7c34"
   },
   "outputs": [
    {
     "name": "stderr",
     "output_type": "stream",
     "text": [
      "epoch: 0, it: 1874, loss: 0.43321: 100%|████| 1875/1875 [00:24<00:00, 77.65it/s]\n"
     ]
    }
   ],
   "source": [
    "model = MLP(784, [16, 16, 10])\n",
    "optimizer = SGD(model.parameters(), lr=0.1)\n",
    "\n",
    "# training loop\n",
    "max_epochs = 1\n",
    "for epoch in range(max_epochs):\n",
    "    pbar = tqdm(enumerate(train_loader), total=len(train_loader))\n",
    "    for it, (x, y) in pbar:\n",
    "        x = Tensor(x.reshape(-1, 28*28).numpy())\n",
    "        y = y.numpy()\n",
    "        # forward pass\n",
    "        ypred = model(x)\n",
    "        loss = F.batched_cross_entropy(ypred, y)\n",
    "        \n",
    "        # backward pass\n",
    "        optimizer.zero_grad()\n",
    "        loss.backward()\n",
    "        \n",
    "        # update\n",
    "        optimizer.step()\n",
    "        \n",
    "        pbar.set_description(f\"epoch: {epoch}, it: {it}, loss: {loss.data.item():.5f}\")"
   ]
  },
  {
   "cell_type": "markdown",
   "metadata": {
    "id": "3rGAL6tM-Yz7"
   },
   "source": [
    "Testing"
   ]
  },
  {
   "cell_type": "code",
   "execution_count": 7,
   "metadata": {
    "id": "U9xCYq-T-Vs8"
   },
   "outputs": [],
   "source": [
    "test_dataset = torchvision.datasets.MNIST(root='./data',\n",
    "                                          train=False,\n",
    "                                          transform=transforms.Compose([\n",
    "                                                  transforms.ToTensor(),\n",
    "                                                  transforms.Normalize(mean = (0.1307,), std = (0.3081,))]),\n",
    "                                          download=True)"
   ]
  },
  {
   "cell_type": "code",
   "execution_count": 8,
   "metadata": {},
   "outputs": [],
   "source": [
    "test_loader = DataLoader(test_dataset, batch_size=128)"
   ]
  },
  {
   "cell_type": "code",
   "execution_count": 9,
   "metadata": {
    "colab": {
     "base_uri": "https://localhost:8080/"
    },
    "id": "zKC2KUGC-vxz",
    "outputId": "5a099497-8562-4ce1-8f2c-c50959a0cb73"
   },
   "outputs": [
    {
     "name": "stdout",
     "output_type": "stream",
     "text": [
      "accuracy: 0.8797\n"
     ]
    }
   ],
   "source": [
    "# evaluate accuracy on test set\n",
    "correct = 0\n",
    "total = 0\n",
    "for x, y in test_loader:\n",
    "    x = Tensor(x.reshape(-1, 28*28).numpy())\n",
    "    y = y.numpy()\n",
    "    logits = model(x)\n",
    "    pred = np.argmax(logits.data, axis=-1)\n",
    "    correct += (y == pred).sum()\n",
    "    total += x.data.shape[0]\n",
    "    \n",
    "\n",
    "print(f\"accuracy: {correct / total}\")"
   ]
  }
 ],
 "metadata": {
  "colab": {
   "authorship_tag": "ABX9TyNfsyE9HMA++4fICTx7wlgg",
   "provenance": []
  },
  "kernelspec": {
   "display_name": "Python 3 (ipykernel)",
   "language": "python",
   "name": "python3"
  },
  "language_info": {
   "codemirror_mode": {
    "name": "ipython",
    "version": 3
   },
   "file_extension": ".py",
   "mimetype": "text/x-python",
   "name": "python",
   "nbconvert_exporter": "python",
   "pygments_lexer": "ipython3",
   "version": "3.9.12"
  }
 },
 "nbformat": 4,
 "nbformat_minor": 1
}
