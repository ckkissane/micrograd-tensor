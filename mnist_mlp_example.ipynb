{
 "cells": [
  {
   "cell_type": "code",
   "execution_count": 19,
   "metadata": {
    "id": "M72DFepUV-dJ"
   },
   "outputs": [],
   "source": [
    "from micrograd.engine import Tensor\n",
    "import micrograd.nn as nn\n",
    "import micrograd.functional as F\n",
    "from micrograd.optim import SGD\n",
    "from micrograd.data import MnistDataset, DataLoader\n",
    "import numpy as np\n",
    "from tqdm import tqdm"
   ]
  },
  {
   "cell_type": "markdown",
   "metadata": {
    "id": "J4tNmFkA71_h"
   },
   "source": [
    "MLP definition"
   ]
  },
  {
   "cell_type": "code",
   "execution_count": 20,
   "metadata": {
    "id": "gth_VsBc70Mf"
   },
   "outputs": [],
   "source": [
    "class MLP(nn.Module):\n",
    "    def __init__(self, nin, nouts):\n",
    "        sz = [nin] + nouts\n",
    "        self.layers = []\n",
    "        for i in range(len(nouts)):\n",
    "            self.layers.append(nn.Linear(sz[i], sz[i+1]))\n",
    "            if i != len(nouts) - 1:\n",
    "                self.layers.append(nn.ReLU())\n",
    "\n",
    "    def __call__(self, x):\n",
    "        for layer in self.layers:\n",
    "            x = layer(x)\n",
    "        return x"
   ]
  },
  {
   "cell_type": "markdown",
   "metadata": {
    "id": "wyZc6RX58spw"
   },
   "source": [
    "Training"
   ]
  },
  {
   "cell_type": "code",
   "execution_count": 21,
   "metadata": {
    "id": "I2WFhFc48vh7",
    "scrolled": true
   },
   "outputs": [],
   "source": [
    "train_dataset = MnistDataset(train=True)\n",
    "train_loader = DataLoader(train_dataset, batch_size=32, shuffle=True)"
   ]
  },
  {
   "cell_type": "code",
   "execution_count": 22,
   "metadata": {
    "colab": {
     "base_uri": "https://localhost:8080/"
    },
    "id": "OOXStd7sd4l5",
    "outputId": "ed225544-032c-4d84-a775-68c92ded7c34"
   },
   "outputs": [
    {
     "name": "stderr",
     "output_type": "stream",
     "text": [
      "epoch: 0, it: 1874, loss: 0.08704: 100%|██████████████████| 1875/1875 [00:08<00:00, 209.65it/s]\n"
     ]
    }
   ],
   "source": [
    "model = MLP(784, [16, 16, 10])\n",
    "optimizer = SGD(model.parameters(), lr=0.1)\n",
    "\n",
    "# training loop\n",
    "max_epochs = 1\n",
    "for epoch in range(max_epochs):\n",
    "    pbar = tqdm(enumerate(train_loader), total=len(train_loader))\n",
    "    for it, (x, y) in pbar:\n",
    "        x = x.reshape((-1, 28*28))\n",
    "        # forward pass\n",
    "        logits = model(x)\n",
    "        loss = F.batched_cross_entropy(logits, y)\n",
    "        \n",
    "        # backward pass\n",
    "        optimizer.zero_grad()\n",
    "        loss.backward()\n",
    "        \n",
    "        # update\n",
    "        optimizer.step()\n",
    "        \n",
    "        pbar.set_description(f\"epoch: {epoch}, it: {it}, loss: {loss.data.item():.5f}\")"
   ]
  },
  {
   "cell_type": "markdown",
   "metadata": {
    "id": "3rGAL6tM-Yz7"
   },
   "source": [
    "Testing"
   ]
  },
  {
   "cell_type": "code",
   "execution_count": 23,
   "metadata": {
    "id": "U9xCYq-T-Vs8"
   },
   "outputs": [],
   "source": [
    "test_dataset = MnistDataset(train=False)\n",
    "test_loader = DataLoader(test_dataset, batch_size=128)"
   ]
  },
  {
   "cell_type": "code",
   "execution_count": 24,
   "metadata": {
    "colab": {
     "base_uri": "https://localhost:8080/"
    },
    "id": "zKC2KUGC-vxz",
    "outputId": "5a099497-8562-4ce1-8f2c-c50959a0cb73"
   },
   "outputs": [
    {
     "name": "stdout",
     "output_type": "stream",
     "text": [
      "accuracy: 0.9231\n"
     ]
    }
   ],
   "source": [
    "# evaluate accuracy on test set\n",
    "correct = 0\n",
    "total = 0\n",
    "for x, y in test_loader:\n",
    "    x = x.reshape((-1, 28*28))\n",
    "    logits = model(x)\n",
    "    pred = np.argmax(logits.data, axis=-1)\n",
    "    correct += (y.data == pred).sum()\n",
    "    total += x.data.shape[0]\n",
    "    \n",
    "\n",
    "print(f\"accuracy: {correct / total}\")"
   ]
  }
 ],
 "metadata": {
  "colab": {
   "authorship_tag": "ABX9TyNfsyE9HMA++4fICTx7wlgg",
   "provenance": []
  },
  "kernelspec": {
   "display_name": "Python 3 (ipykernel)",
   "language": "python",
   "name": "python3"
  },
  "language_info": {
   "codemirror_mode": {
    "name": "ipython",
    "version": 3
   },
   "file_extension": ".py",
   "mimetype": "text/x-python",
   "name": "python",
   "nbconvert_exporter": "python",
   "pygments_lexer": "ipython3",
   "version": "3.9.7"
  }
 },
 "nbformat": 4,
 "nbformat_minor": 1
}
